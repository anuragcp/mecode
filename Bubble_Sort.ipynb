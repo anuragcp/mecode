{
  "nbformat": 4,
  "nbformat_minor": 0,
  "metadata": {
    "colab": {
      "provenance": [],
      "authorship_tag": "ABX9TyP22Md0ih3dh+xUUXVsUOFp",
      "include_colab_link": true
    },
    "kernelspec": {
      "name": "python3",
      "display_name": "Python 3"
    },
    "language_info": {
      "name": "python"
    }
  },
  "cells": [
    {
      "cell_type": "markdown",
      "metadata": {
        "id": "view-in-github",
        "colab_type": "text"
      },
      "source": [
        "<a href=\"https://colab.research.google.com/github/anuragcp/mecode/blob/main/Bubble_Sort.ipynb\" target=\"_parent\"><img src=\"https://colab.research.google.com/assets/colab-badge.svg\" alt=\"Open In Colab\"/></a>"
      ]
    },
    {
      "cell_type": "code",
      "execution_count": 1,
      "metadata": {
        "id": "igls3hef8-pc",
        "colab": {
          "base_uri": "https://localhost:8080/",
          "height": 35
        },
        "outputId": "e1fcfbc3-cdff-46b0-d3ce-4483d71cc3f9"
      },
      "outputs": [
        {
          "output_type": "execute_result",
          "data": {
            "text/plain": [
              "'\\n    Array of number with random order.\\n'"
            ],
            "application/vnd.google.colaboratory.intrinsic+json": {
              "type": "string"
            }
          },
          "metadata": {},
          "execution_count": 1
        }
      ],
      "source": [
        "\"\"\"\n",
        "    Array of number with random order.\n",
        "\"\"\""
      ]
    },
    {
      "cell_type": "code",
      "source": [
        "\"\"\"\n",
        "    Worst case\n",
        "        O(n^2) comparisons\n",
        "        O(n^2) swaps\n",
        "    Best Case\n",
        "        O(n) Comparisons\n",
        "        O(n) swaps\n",
        "\"\"\"\n",
        "def bubble_sort_optimal(array:list):\n",
        "    # initiaising variable\n",
        "    last_sorted_idx = len(array)\n",
        "    while True:\n",
        "        swapped = False\n",
        "        for i in range(last_sorted_idx-1):\n",
        "            if array[i] > array[i+1]:\n",
        "                temp = array[i]\n",
        "                array[i] = array[i+1]\n",
        "                array[i+1] = temp\n",
        "                swapped = True\n",
        "        last_sorted_idx -= 1\n",
        "        if not swapped:\n",
        "            break\n",
        "    return array"
      ],
      "metadata": {
        "id": "O95Ul4SE9N8u"
      },
      "execution_count": 6,
      "outputs": []
    },
    {
      "cell_type": "code",
      "source": [
        "array = [9,8,8,3,2,1]\n",
        "bubble_sort_optimal(array)"
      ],
      "metadata": {
        "id": "oWLyauSh-ihH",
        "colab": {
          "base_uri": "https://localhost:8080/"
        },
        "outputId": "81f3d73f-0888-47ce-b61b-2a54bfa567b5"
      },
      "execution_count": 7,
      "outputs": [
        {
          "output_type": "execute_result",
          "data": {
            "text/plain": [
              "[1, 2, 3, 8, 8, 9]"
            ]
          },
          "metadata": {},
          "execution_count": 7
        }
      ]
    }
  ]
}